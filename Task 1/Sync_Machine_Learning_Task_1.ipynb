{
  "cells": [
    {
      "cell_type": "markdown",
      "metadata": {
        "id": "qRp4FEUProBy"
      },
      "source": [
        "# SYNC Machine Learning Internship Task-1 (Chatbot Project)\n",
        "\n",
        "**Author**: Ahmed Hisham Fathy Hassabou\n",
        "\n",
        "This is a simple chatbot project that can engage in conversations.\n",
        "\n",
        "Feel free to chat with the chatbot! To start a conversation, run the code cell below.\n",
        "\n",
        "Please type lowercase English language to interact with the chatbot. Type 'quit' to exit the conversation.\n"
      ]
    },
    {
      "cell_type": "code",
      "execution_count": 1,
      "metadata": {
        "colab": {
          "base_uri": "https://localhost:8080/"
        },
        "id": "TtU2jd_PiAcO",
        "outputId": "7cea6f55-4c23-46e2-e3be-7a22190e1c6b"
      },
      "outputs": [
        {
          "name": "stdout",
          "output_type": "stream",
          "text": [
            "Requirement already satisfied: nltk in c:\\users\\ahmed\\appdata\\local\\programs\\python\\python36\\lib\\site-packages (3.6.7)\n",
            "Requirement already satisfied: click in c:\\users\\ahmed\\appdata\\local\\programs\\python\\python36\\lib\\site-packages (from nltk) (8.0.4)\n",
            "Requirement already satisfied: joblib in c:\\users\\ahmed\\appdata\\local\\programs\\python\\python36\\lib\\site-packages (from nltk) (1.1.1)\n",
            "Requirement already satisfied: tqdm in c:\\users\\ahmed\\appdata\\local\\programs\\python\\python36\\lib\\site-packages (from nltk) (4.64.1)\n",
            "Requirement already satisfied: regex>=2021.8.3 in c:\\users\\ahmed\\appdata\\local\\programs\\python\\python36\\lib\\site-packages (from nltk) (2023.8.8)\n",
            "Requirement already satisfied: colorama in c:\\users\\ahmed\\appdata\\local\\programs\\python\\python36\\lib\\site-packages (from click->nltk) (0.4.5)\n",
            "Requirement already satisfied: importlib-metadata in c:\\users\\ahmed\\appdata\\local\\programs\\python\\python36\\lib\\site-packages (from click->nltk) (4.8.3)\n",
            "Requirement already satisfied: importlib-resources in c:\\users\\ahmed\\appdata\\local\\programs\\python\\python36\\lib\\site-packages (from tqdm->nltk) (5.4.0)\n",
            "Requirement already satisfied: zipp>=0.5 in c:\\users\\ahmed\\appdata\\local\\programs\\python\\python36\\lib\\site-packages (from importlib-metadata->click->nltk) (3.6.0)\n",
            "Requirement already satisfied: typing-extensions>=3.6.4 in c:\\users\\ahmed\\appdata\\local\\programs\\python\\python36\\lib\\site-packages (from importlib-metadata->click->nltk) (4.1.1)\n"
          ]
        }
      ],
      "source": [
        "!pip3 install nltk"
      ]
    },
    {
      "cell_type": "code",
      "execution_count": 3,
      "metadata": {
        "id": "AKfisyrjiCwv"
      },
      "outputs": [
        {
          "ename": "ModuleNotFoundError",
          "evalue": "No module named 'nltk'",
          "output_type": "error",
          "traceback": [
            "\u001b[1;31m---------------------------------------------------------------------------\u001b[0m",
            "\u001b[1;31mModuleNotFoundError\u001b[0m                       Traceback (most recent call last)",
            "\u001b[1;32md:\\GitHub_Repos\\Sync-Machine-Learning-Playground\\Task 1\\Sync_Machine_Learning_Task_1.ipynb Cell 3\u001b[0m line \u001b[0;36m2\n\u001b[0;32m      <a href='vscode-notebook-cell:/d%3A/GitHub_Repos/Sync-Machine-Learning-Playground/Task%201/Sync_Machine_Learning_Task_1.ipynb#W2sZmlsZQ%3D%3D?line=0'>1</a>\u001b[0m \u001b[39m# Import Libraries\u001b[39;00m\n\u001b[1;32m----> <a href='vscode-notebook-cell:/d%3A/GitHub_Repos/Sync-Machine-Learning-Playground/Task%201/Sync_Machine_Learning_Task_1.ipynb#W2sZmlsZQ%3D%3D?line=1'>2</a>\u001b[0m \u001b[39mimport\u001b[39;00m \u001b[39mnltk\u001b[39;00m\n\u001b[0;32m      <a href='vscode-notebook-cell:/d%3A/GitHub_Repos/Sync-Machine-Learning-Playground/Task%201/Sync_Machine_Learning_Task_1.ipynb#W2sZmlsZQ%3D%3D?line=2'>3</a>\u001b[0m \u001b[39mfrom\u001b[39;00m \u001b[39mnltk\u001b[39;00m\u001b[39m.\u001b[39;00m\u001b[39mchat\u001b[39;00m\u001b[39m.\u001b[39;00m\u001b[39mutil\u001b[39;00m \u001b[39mimport\u001b[39;00m Chat, reflections\n",
            "\u001b[1;31mModuleNotFoundError\u001b[0m: No module named 'nltk'"
          ]
        }
      ],
      "source": [
        "# Import Libraries\n",
        "import nltk\n",
        "from nltk.chat.util import Chat, reflections"
      ]
    },
    {
      "cell_type": "code",
      "execution_count": 18,
      "metadata": {
        "id": "znVpJry4iFfE"
      },
      "outputs": [],
      "source": [
        "# Define Chatbot Pairs\n",
        "#Pairs is a list of patterns and responses.\n",
        "pairs = [\n",
        "    [\n",
        "        r\"(.*)my name is (.*)\",\n",
        "        [\"Hello %2, How are you today ?\",]\n",
        "    ],\n",
        "    [\n",
        "        r\"(.*)help(.*) \",\n",
        "        [\"I can help you \",]\n",
        "    ],\n",
        "     [\n",
        "        r\"(.*) your name?\",\n",
        "        [\"I'm chatbot.And What's your name?\"]\n",
        "    ],\n",
        "    [\n",
        "        r\"(.*) are you\",\n",
        "        [\"I'm doing very well\", \"i am great !\"]\n",
        "    ],\n",
        "    [\n",
        "        r\"sorry (.*)\",\n",
        "        [\"Its alright\",\"Its OK, never mind that\",]\n",
        "    ],\n",
        "    [\n",
        "        r\"i'm (.*) (good|well|okay|ok)\",\n",
        "        [\"Nice to hear that\",\"Alright, great !\",]\n",
        "    ],\n",
        "    [\n",
        "        r\"(hi|hey|hello|hola|holla)(.*)\",\n",
        "        [\"Hello\", \"Hey there\",]\n",
        "    ],\n",
        "    [\n",
        "        r\"what (.*) want ?\",\n",
        "        [\"Make me an offer I can't refuse\",]\n",
        "\n",
        "    ],\n",
        "    [\n",
        "        r\"(.*)created(.*)\",\n",
        "        [\" It's top secret ;)\",]\n",
        "    ],\n",
        "    [\n",
        "        r\"(.*) (location) ?\",\n",
        "        ['India']\n",
        "    ],\n",
        "    [\n",
        "        r\"where(.*) are you from?\",\n",
        "        ['India']\n",
        "    ],\n",
        "    [\n",
        "        r\"(.*)raining in (.*)\",\n",
        "        [\"No rain in the past 4 days here in %2\",\"In %2 there is a 50% chance of rain\",]\n",
        "    ],\n",
        "    [\n",
        "        r\"(.*) is your health\",\n",
        "        [\"Health is very important, but I am a computer, so I don't need to worry about my health \",]\n",
        "    ],\n",
        "    [\n",
        "        r\"(.*)(sports|game|sport)(.*)\",\n",
        "        [\"I'm a very big fan of Cricket\",]\n",
        "    ],\n",
        "    [\n",
        "        r\"who (.*) (Cricketer|Batsman)?\",\n",
        "        [\"Virat Kohli\"]\n",
        "    ],\n",
        "    [\n",
        "        r\"quit\",\n",
        "        [\"Bye for now. See you soon :) \",\"It was nice talking to you. See you soon :)\"]\n",
        "    ],\n",
        "    [\n",
        "        r\"(.*)\",\n",
        "        ['That is nice to hear']\n",
        "    ],\n",
        "]"
      ]
    },
    {
      "cell_type": "code",
      "execution_count": 20,
      "metadata": {
        "colab": {
          "base_uri": "https://localhost:8080/"
        },
        "id": "YQraZGW1iH1t",
        "outputId": "cdd3f073-4964-415e-b3af-590ab5ff7d09"
      },
      "outputs": [
        {
          "name": "stdout",
          "output_type": "stream",
          "text": [
            "Hi, I like to chat. Please type lowercase English language to start a conversation. Type 'quit' to leave.\n",
            "You: quit\n",
            "Chatbot: Bye for now. See you soon :)\n"
          ]
        }
      ],
      "source": [
        "# Create Chat Bot\n",
        "chat = Chat(pairs, reflections)\n",
        "\n",
        "# Start conversation\n",
        "print(\"Hi, I like to chat. Please type lowercase English language to start a conversation. Type 'quit' to leave.\")\n",
        "while True:\n",
        "    user_input = input(\"You: \")\n",
        "    if user_input.lower() == 'quit':\n",
        "        print(\"Chatbot: Bye for now. See you soon :)\")\n",
        "        break\n",
        "    response = chat.respond(user_input)\n",
        "    print(\"Chatbot:\", response)"
      ]
    }
  ],
  "metadata": {
    "colab": {
      "provenance": []
    },
    "kernelspec": {
      "display_name": "Python 3",
      "name": "python3"
    },
    "language_info": {
      "codemirror_mode": {
        "name": "ipython",
        "version": 3
      },
      "file_extension": ".py",
      "mimetype": "text/x-python",
      "name": "python",
      "nbconvert_exporter": "python",
      "pygments_lexer": "ipython3",
      "version": "3.11.2"
    }
  },
  "nbformat": 4,
  "nbformat_minor": 0
}

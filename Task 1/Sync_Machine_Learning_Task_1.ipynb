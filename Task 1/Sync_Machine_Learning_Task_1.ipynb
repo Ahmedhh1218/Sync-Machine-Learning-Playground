{
  "cells": [
    {
      "cell_type": "markdown",
      "id": "bdaff326",
      "metadata": {
        "id": "bdaff326"
      },
      "source": [
        "# **SYNC INTERN - MACHINE LEARNING**\n",
        "# Restaurant Reservation Chatbot\n",
        "**Author: Ahmed Hisham Fathy Hassabou**\n",
        "## Project Description\n",
        "\n",
        "The Restaurant Reservation Chatbot is a Python-based chatbot designed to assist users in finding and booking tables at restaurants. It provides information on restaurant menus and offers dining recommendations, enhancing the dining experience for users.\n",
        "\n",
        "### Key Features\n",
        "\n",
        "- **Table Reservations:** Users can inquire about table availability and make reservations at their preferred restaurants.\n",
        "\n",
        "- **Menu Information:** The chatbot provides details about restaurant menus, including dishes, prices, and special offers.\n",
        "\n",
        "- **User-Friendly Interface:** The chatbot is designed with a user-friendly interface, making it easy for users to interact and receive prompt responses.\n",
        "\n",
        "## Implementation\n",
        "\n",
        "The chatbot is developed using Python. It utilizes conditional statements and user input to navigate through various user requests, such as reservation queries and menu information.\n",
        "\n",
        "## Potential Enhancements\n",
        "\n",
        "- Integration with restaurant booking APIs for real-time reservations.\n",
        "\n",
        "- Personalized dining recommendations based on user preferences and dining history.\n",
        "\n",
        "- Expansion to a web-based or mobile app interface for wider accessibility.\n",
        "\n",
        "## Usage\n",
        "\n",
        "To use the Restaurant Reservation Chatbot, simply run the Python script in your Jupyter Notebook or terminal. The chatbot will guide users through the process of finding and booking tables at restaurants, providing a convenient and efficient dining experience.\n",
        "\n",
        "Feel free to customize and expand upon the project based on your specific requirements and preferences."
      ]
    },
    {
      "cell_type": "code",
      "execution_count": 1,
      "id": "7c9c00ed",
      "metadata": {
        "id": "7c9c00ed"
      },
      "outputs": [],
      "source": [
        "import random\n",
        "import time"
      ]
    },
    {
      "cell_type": "code",
      "source": [
        "# Define a sample menu for the restaurant\n",
        "menu = {\n",
        "    \"Margherita Pizza\": \"$12.99\",\n",
        "    \"Pepperoni Pizza\": \"$14.99\",\n",
        "    \"Mushroom Risotto\": \"$16.99\",\n",
        "    \"Spaghetti Carbonara\": \"$15.99\",\n",
        "    \"Grilled Chicken\": \"$18.99\",\n",
        "    \"Caesar Salad\": \"$9.99\",\n",
        "    \"Seafood Platter\": \"$24.99\",\n",
        "    \"Tandoori Chicken\": \"$17.99\",\n",
        "    \"Vegetable Biryani\": \"$13.99\",\n",
        "    \"Sushi Platter\": \"$22.99\",\n",
        "    \"New York Strip Steak\": \"$21.99\",\n",
        "    \"Lobster Thermidor\": \"$29.99\",\n",
        "    \"Chocolate Fondue\": \"$8.99\",\n",
        "    \"Cheesecake\": \"$7.99\",\n",
        "    \"Tiramisu\": \"$9.99\",\n",
        "    \"Fruit Salad\": \"$6.99\",\n",
        "    \"Coffee\": \"$3.99\",\n",
        "    \"Soft Drinks\": \"$2.99\",\n",
        "    \"Wine (Red/White)\": \"$19.99\",\n",
        "    \"Cocktail (Margarita)\": \"$8.99\",\n",
        "    \"Beer (Domestic/Imported)\": \"$5.99\",\n",
        "}"
      ],
      "metadata": {
        "id": "GW-XI4nhgHaF"
      },
      "id": "GW-XI4nhgHaF",
      "execution_count": 2,
      "outputs": []
    },
    {
      "cell_type": "code",
      "execution_count": 3,
      "id": "d6784e5a",
      "metadata": {
        "id": "d6784e5a"
      },
      "outputs": [],
      "source": [
        "def greet():\n",
        "    greetings = [\"\\033[1;36mRestaurantBot: Hi! How are you? I'm your dining helping assistant.\\033[0m\"]\n",
        "    greeting = random.choice(greetings)\n",
        "    print(greeting)\n",
        "    time.sleep(2)"
      ]
    },
    {
      "cell_type": "code",
      "execution_count": 4,
      "id": "ea48f438",
      "metadata": {
        "id": "ea48f438"
      },
      "outputs": [],
      "source": [
        "def ask_name():\n",
        "    print(\"\\033[1;31mRestaurantBot: What is your name?\\033[0m\")\n",
        "    name = input(\"User: \")\n",
        "    time.sleep(1)\n",
        "    print(\"\\033[1;36mRestaurantBot: Welcome! Pleasure to meet you\\033[0m, \" + name + \"!\")\n",
        "    time.sleep(2)"
      ]
    },
    {
      "cell_type": "code",
      "execution_count": 5,
      "id": "69e2dce1",
      "metadata": {
        "id": "69e2dce1"
      },
      "outputs": [],
      "source": [
        "def ask_reservation():\n",
        "    print(\"\\033[1;31mRestaurantBot: would you like to make a reservation?\\033[0m\")\n",
        "    time.sleep(2)"
      ]
    },
    {
      "cell_type": "code",
      "execution_count": 6,
      "id": "6d056f70",
      "metadata": {
        "id": "6d056f70"
      },
      "outputs": [],
      "source": [
        "def reservation_response():\n",
        "    response = input(\"User: \")\n",
        "    time.sleep(1)\n",
        "    if response.lower() == \"yes\":\n",
        "        print(\"\\033[1;36mRestaurantBot: Great!\\033[0m\")\n",
        "    elif response.lower() == \"no\":\n",
        "        print(\"\\033[1;36mRestaurantBot: It was my pleasure to know you Sir, bye bye!\\033[0m\")\n",
        "        return False  # Exit the loop"
      ]
    },
    {
      "cell_type": "code",
      "execution_count": 7,
      "id": "74ae0993",
      "metadata": {
        "id": "74ae0993"
      },
      "outputs": [],
      "source": [
        "def ask_members():\n",
        "    print(\"\\033[1;31mRestaurantBot: How many guests will honor us with you?\\033[0m\")\n",
        "    members = input(\"User: \")\n",
        "    time.sleep(1)\n",
        "    print(\"\\033[1;36mRestaurantBot: Great!\\033[0m\")\n",
        "    time.sleep(2)"
      ]
    },
    {
      "cell_type": "code",
      "execution_count": 8,
      "id": "5637a0e9",
      "metadata": {
        "id": "5637a0e9"
      },
      "outputs": [],
      "source": [
        "def find_table():\n",
        "    print(\"\\033[1;31mRestaurantBot: Let's find you a table. Please tell me your preferred date and time for the reservation.\\033[0m\")\n",
        "    reservation_info = input(\"User: \")\n",
        "    time.sleep(1)\n",
        "    print(\"\\033[1;36mRestaurantBot: Thank you! I'll check for available tables on \\033[0m\" + reservation_info)\n",
        "    time.sleep(2)\n",
        "    print(\"\\033[1;33mRestaurantBot: Okay Sir, your table is number 12.\\033[0m\")\n",
        "    time.sleep(2)"
      ]
    },
    {
      "cell_type": "code",
      "execution_count": 9,
      "id": "53a0f85b",
      "metadata": {
        "id": "53a0f85b"
      },
      "outputs": [],
      "source": [
        "def ask_help():\n",
        "    print(\"\\033[1;31mRestaurantBot: Is there anything else I can assist you with?\\033[0m\")\n",
        "    help_needed = input(\"User: \").lower()\n",
        "    if help_needed == \"yes\":\n",
        "        return True\n",
        "    else:\n",
        "        return False"
      ]
    },
    {
      "cell_type": "code",
      "source": [
        "# Function to handle user's request\n",
        "def extra_req():\n",
        "    print(\"\\033[1;31mRestaurantBot: Is there anything specific you'd like to know?\\033[0m\")\n",
        "    print(\"\\033[1;36mYou can ask about our menu, special offers, or our best dishes.\\033[0m\")\n",
        "    user_input = input(\"User: \").lower()\n",
        "\n",
        "    if \"menu\" in user_input:\n",
        "        print(\"\\033[1;36mRestaurantBot: Here's our menu:\\033[0m\")\n",
        "        for item, price in menu.items():\n",
        "            print(f\"{item}: {price}\")\n",
        "\n",
        "    elif \"offers\" in user_input:\n",
        "        print(\"\\033[1;36mRestaurantBot: We currently have a special offer for couples.\\033[0m\")\n",
        "        print(\"\\033[1;36mBuy one main course, get the second at half price!\\033[0m\")\n",
        "\n",
        "    elif \"best dishes\" in user_input:\n",
        "        print(\"\\033[1;36mRestaurantBot: Some of our best dishes include the Grilled Salmon, Mushroom Risotto, and Tiramisu for dessert.\\033[0m\")\n",
        ""
      ],
      "metadata": {
        "id": "SuQZNV0XdVR8"
      },
      "id": "SuQZNV0XdVR8",
      "execution_count": 10,
      "outputs": []
    },
    {
      "cell_type": "code",
      "execution_count": 11,
      "id": "d65cef68",
      "metadata": {
        "id": "d65cef68"
      },
      "outputs": [],
      "source": [
        "def main():\n",
        "    greet()\n",
        "    ask_name()\n",
        "    ask_reservation()\n",
        "    reservation_response()\n",
        "    ask_members()\n",
        "    find_table()\n",
        "    while ask_help():\n",
        "      extra_req()\n",
        "    print(\"\\033[1;33mRestaurantBot: Enjoy your meal and have a great dining experience!\\033[0m\")\n"
      ]
    },
    {
      "cell_type": "code",
      "execution_count": 12,
      "id": "aaa6f1b1",
      "metadata": {
        "colab": {
          "base_uri": "https://localhost:8080/"
        },
        "id": "aaa6f1b1",
        "outputId": "7b233a31-0992-4ca3-bc45-687dc9b9a24b"
      },
      "outputs": [
        {
          "output_type": "stream",
          "name": "stdout",
          "text": [
            "\u001b[1;36mRestaurantBot: Hi! How are you? I'm your dining helping assistant.\u001b[0m\n",
            "\u001b[1;31mRestaurantBot: What is your name?\u001b[0m\n",
            "User: Ahmed Hassabou\n",
            "\u001b[1;36mRestaurantBot: Welcome! Pleasure to meet you\u001b[0m, Ahmed Hassabou!\n",
            "\u001b[1;31mRestaurantBot: would you like to make a reservation?\u001b[0m\n",
            "User: yes\n",
            "\u001b[1;36mRestaurantBot: Great!\u001b[0m\n",
            "\u001b[1;31mRestaurantBot: How many guests will honor us with you?\u001b[0m\n",
            "User: 5\n",
            "\u001b[1;36mRestaurantBot: Great!\u001b[0m\n",
            "\u001b[1;31mRestaurantBot: Let's find you a table. Please tell me your preferred date and time for the reservation.\u001b[0m\n",
            "User: Monday 17th at 6PM\n",
            "\u001b[1;36mRestaurantBot: Thank you! I'll check for available tables on \u001b[0mMonday 17th at 6PM\n",
            "\u001b[1;33mRestaurantBot: Okay Sir, your table is number 12.\u001b[0m\n",
            "\u001b[1;31mRestaurantBot: Is there anything else I can assist you with?\u001b[0m\n",
            "User: yes\n",
            "\u001b[1;31mRestaurantBot: Is there anything specific you'd like to know?\u001b[0m\n",
            "\u001b[1;36mYou can ask about our menu, special offers, or our best dishes.\u001b[0m\n",
            "User: menu\n",
            "\u001b[1;36mRestaurantBot: Here's our menu:\u001b[0m\n",
            "Margherita Pizza: $12.99\n",
            "Pepperoni Pizza: $14.99\n",
            "Mushroom Risotto: $16.99\n",
            "Spaghetti Carbonara: $15.99\n",
            "Grilled Chicken: $18.99\n",
            "Caesar Salad: $9.99\n",
            "Seafood Platter: $24.99\n",
            "Tandoori Chicken: $17.99\n",
            "Vegetable Biryani: $13.99\n",
            "Sushi Platter: $22.99\n",
            "New York Strip Steak: $21.99\n",
            "Lobster Thermidor: $29.99\n",
            "Chocolate Fondue: $8.99\n",
            "Cheesecake: $7.99\n",
            "Tiramisu: $9.99\n",
            "Fruit Salad: $6.99\n",
            "Coffee: $3.99\n",
            "Soft Drinks: $2.99\n",
            "Wine (Red/White): $19.99\n",
            "Cocktail (Margarita): $8.99\n",
            "Beer (Domestic/Imported): $5.99\n",
            "\u001b[1;31mRestaurantBot: Is there anything else I can assist you with?\u001b[0m\n",
            "User: yes\n",
            "\u001b[1;31mRestaurantBot: Is there anything specific you'd like to know?\u001b[0m\n",
            "\u001b[1;36mYou can ask about our menu, special offers, or our best dishes.\u001b[0m\n",
            "User: offers\n",
            "\u001b[1;36mRestaurantBot: We currently have a special offer for couples.\u001b[0m\n",
            "\u001b[1;36mBuy one main course, get the second at half price!\u001b[0m\n",
            "\u001b[1;31mRestaurantBot: Is there anything else I can assist you with?\u001b[0m\n",
            "User: yes\n",
            "\u001b[1;31mRestaurantBot: Is there anything specific you'd like to know?\u001b[0m\n",
            "\u001b[1;36mYou can ask about our menu, special offers, or our best dishes.\u001b[0m\n",
            "User: best dishes\n",
            "\u001b[1;36mRestaurantBot: Some of our best dishes include the Grilled Salmon, Mushroom Risotto, and Tiramisu for dessert.\u001b[0m\n",
            "\u001b[1;31mRestaurantBot: Is there anything else I can assist you with?\u001b[0m\n",
            "User: no\n",
            "\u001b[1;33mRestaurantBot: Enjoy your meal and have a great dining experience!\u001b[0m\n"
          ]
        }
      ],
      "source": [
        "if __name__ == \"__main__\":\n",
        "    main()"
      ]
    }
  ],
  "metadata": {
    "kernelspec": {
      "display_name": "Python 3 (ipykernel)",
      "language": "python",
      "name": "python3"
    },
    "language_info": {
      "codemirror_mode": {
        "name": "ipython",
        "version": 3
      },
      "file_extension": ".py",
      "mimetype": "text/x-python",
      "name": "python",
      "nbconvert_exporter": "python",
      "pygments_lexer": "ipython3",
      "version": "3.11.2"
    },
    "colab": {
      "provenance": []
    }
  },
  "nbformat": 4,
  "nbformat_minor": 5
}